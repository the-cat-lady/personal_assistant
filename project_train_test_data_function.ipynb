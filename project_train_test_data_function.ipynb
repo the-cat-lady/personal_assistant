{
 "cells": [
  {
   "cell_type": "markdown",
   "metadata": {},
   "source": [
    "## Function to create train/test data from Commonsense-Dialogues dataset\n",
    "\n",
    "For use in Team #2 Project for AIT 726\n",
    "\n",
    "https://github.com/alexa/Commonsense-Dialogues"
   ]
  },
  {
   "cell_type": "code",
   "execution_count": 4,
   "metadata": {},
   "outputs": [],
   "source": [
    "import json\n",
    "import pandas as pd\n"
   ]
  },
  {
   "cell_type": "code",
   "execution_count": 5,
   "metadata": {},
   "outputs": [],
   "source": [
    "dialogs = \"\"\"\n",
    "{\n",
    "\"1\": {\n",
    "        \"context\": \"Austin left in a huff of rage after they were beaten in the video game competition.\",\n",
    "        \"speaker\": \"Austin\",\n",
    "        \"turns\": [\n",
    "            \"I got so mad, I couldn't contain it anymore\",\n",
    "            \"Did you huff off?\",\n",
    "            \"I did, I flared up into anger\",\n",
    "            \"You need to calm down, it's just a video game\",\n",
    "            \"I know, I should not let it get to me like this.\",\n",
    "            \"blow off some steam and come back\"\n",
    "        ]\n",
    "    },\n",
    "    \"2\": {\n",
    "        \"context\": \"Austin left in a huff of rage after they were beaten in the video game competition.\",\n",
    "        \"speaker\": \"Austin\",\n",
    "        \"turns\": [\n",
    "            \"I was so devastated after the defeat.\",\n",
    "            \"You should have put more effort into it!\",\n",
    "            \"yes, I know! I left in a huff of rage after I was beaten in the video game competition.\",\n",
    "            \"You need to buckle up next time!\",\n",
    "            \"I know, I will.\"\n",
    "        ]\n",
    "    },\n",
    "    \"3\": {\n",
    "        \"context\": \"Austin left in a huff of rage after they were beaten in the video game competition.\",\n",
    "        \"speaker\": \"Austin\",\n",
    "        \"turns\": [\n",
    "            \"I was so upset that I lost yesterday.\",\n",
    "            \"What did you play?\",\n",
    "            \"It was a video game competition.\",\n",
    "            \"Who did you play against?\",\n",
    "            \"They were players form the town next to us.\",\n",
    "            \"That happened sometimes. Better luck next time.\"\n",
    "        ]\n",
    "    },\n",
    "    \"4\": {\n",
    "        \"context\": \"Cameron had accidentally broken the door, so they decided to tell their mom about it.\",\n",
    "        \"speaker\": \"Cameron\",\n",
    "        \"turns\": [\n",
    "            \"Remember when I was playing with the guys while you were leaving?\",\n",
    "            \"Did you break something?\",\n",
    "            \"Yeah, the boys tackled me and we broke the door. So I called my mom and told her.\",\n",
    "            \"What did she say?\",\n",
    "            \"She was really mad and told me to call the repair man.\",\n",
    "            \"Well at least you aren't grounded, yet.\"\n",
    "        ]\n",
    "    }\n",
    "}\"\"\""
   ]
  },
  {
   "cell_type": "code",
   "execution_count": 7,
   "metadata": {},
   "outputs": [],
   "source": [
    "def parse_dialogs(dialogs: str) -> pd.DataFrame:\n",
    "    '''given a json string object from commonsense-dialogues, return dataframe with parsed\n",
    "    training or testing data\n",
    "    \tincoming\treply_needed\tresponse\n",
    "0\tAustin left in a huff of rage after they were ...\tTrue\tDid you huff off?\n",
    "1\tAustin left in a huff of rage after they were ...\tTrue\tblow off some steam and come back\n",
    "2\tAustin left in a huff of rage after they were ...\tFalse\tNone\n",
    "    '''\n",
    "    assert type(dialogs) == str\n",
    "    try:\n",
    "        our_json = json.loads(dialogs)\n",
    "    except Exception as e:\n",
    "        print('failed json.loading dialogs: ', e)\n",
    "\n",
    "    new_data = []\n",
    "\n",
    "    for idx, d in enumerate(our_json.items()):\n",
    "        # bonus preprocessing # TODO:\n",
    "        # replace speaker in any of these messages with \"I\"?? (maybe not...)\n",
    "\n",
    "        # read in our dialog, parse into \"incoming\" message, and maybe a response\n",
    "        context = d[1]['context']\n",
    "        turns = d[1]['turns']  # d[0] is the index, d[1] is the dialog\n",
    "        line_count = len(turns)\n",
    "\n",
    "        # Case 1. incoming = d[1]['context'] +d[1]['turns'][0]\n",
    "        incoming = ' '.join([context, turns[0]])\n",
    "        reply_needed = True\n",
    "        response = turns[1]\n",
    "        new_data.append({'incoming': incoming, 'reply_needed':reply_needed, 'response':response})\n",
    "\n",
    "        # Case 2. context + line n-1 = incoming email that needs a response, with target line n\n",
    "        incoming = ' '.join([context, turns[line_count-2]])  # zero-index, line n-1\n",
    "        reply_needed = True\n",
    "        response = turns[line_count-1]  # last line in turns\n",
    "        new_data.append({'incoming': incoming, 'reply_needed':reply_needed, 'response':response})\n",
    "\n",
    "        # Case 3. context + line n = incoming email that does not need a response (target = None)\n",
    "        incoming = ' '.join([context, turns[line_count-1]])\n",
    "        reply_needed = False\n",
    "        response = None\n",
    "        new_data.append({'incoming': incoming, 'reply_needed':reply_needed, 'response':response})\n",
    "\n",
    "        # Case 4. context + line ending in \"?\", if not last line = incoming email needing a response, and next line is target\n",
    "        for idx, t in enumerate(turns[:-1]):\n",
    "            if \"?\" in t:\n",
    "                incoming = ' '.join([context, t])\n",
    "                reply_needed = True\n",
    "                response = turns[idx]\n",
    "                new_data.append({'incoming': incoming, 'reply_needed':reply_needed, 'response':response})\n",
    "\n",
    "\n",
    "\n",
    "    # print out all of our content -- uncomment this block to see full values\n",
    "    #for element in new_data:\n",
    "    #    print(f'\\nincoming: {element[\"incoming\"]}\\n\\nresponse: {element[\"response\"]}\\n\\n{\"---\"*5}')\n",
    "\n",
    "    df = pd.DataFrame(new_data, columns=['incoming', 'reply_needed', 'response'])\n",
    "    return df\n",
    "    \n",
    "\n",
    "df = parse_dialogs(dialogs)\n"
   ]
  },
  {
   "cell_type": "code",
   "execution_count": 10,
   "metadata": {},
   "outputs": [
    {
     "data": {
      "text/plain": [
       "\"Austin left in a huff of rage after they were beaten in the video game competition. I got so mad, I couldn't contain it anymore\""
      ]
     },
     "execution_count": 10,
     "metadata": {},
     "output_type": "execute_result"
    }
   ],
   "source": [
    "df.loc[0]['incoming']"
   ]
  }
 ],
 "metadata": {
  "kernelspec": {
   "display_name": "ml-env",
   "language": "python",
   "name": "ml-env"
  },
  "language_info": {
   "codemirror_mode": {
    "name": "ipython",
    "version": 3
   },
   "file_extension": ".py",
   "mimetype": "text/x-python",
   "name": "python",
   "nbconvert_exporter": "python",
   "pygments_lexer": "ipython3",
   "version": "3.6.8"
  }
 },
 "nbformat": 4,
 "nbformat_minor": 2
}
